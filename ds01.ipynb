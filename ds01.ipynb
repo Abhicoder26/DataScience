{
 "cells": [
  {
   "cell_type": "code",
   "execution_count": 1,
   "id": "b93bf537-5a58-464c-8b3f-c15dbd1b60ae",
   "metadata": {},
   "outputs": [],
   "source": [
    "#1.Create one variable containing following type of data\n",
    "a=\"hello\" # string\n",
    "b=[1,2,3,\"peter\",True] # List\n",
    "c=14.58 # Float\n",
    "d=(4,6,8,18)\n"
   ]
  },
  {
   "cell_type": "code",
   "execution_count": 2,
   "id": "e148bf88-30d1-4694-8401-4caf9c75faff",
   "metadata": {},
   "outputs": [
    {
     "name": "stdout",
     "output_type": "stream",
     "text": [
      "<class 'str'>\n",
      "<class 'str'>\n",
      "<class 'list'>\n",
      "<class 'float'>\n"
     ]
    }
   ],
   "source": [
    "#2.Given are some following variables containing data:\n",
    "var1=''\n",
    "var2='[DS,ML,Pyton]'\n",
    "var3=['DS','ML','Python']\n",
    "var4=1.\n",
    "print(type(var1))\n",
    "print(type(var2))\n",
    "print(type(var3))\n",
    "print(type(var4))\n",
    "# First two variables are string and the 3rd one is list an 4th one is float"
   ]
  },
  {
   "cell_type": "code",
   "execution_count": 3,
   "id": "02c3871c-0194-40e2-82db-35a501118634",
   "metadata": {},
   "outputs": [
    {
     "name": "stdout",
     "output_type": "stream",
     "text": [
      "4.0\n",
      "2\n",
      "2\n",
      "8\n"
     ]
    }
   ],
   "source": [
    "#3.Explain the use of the following operators using an example\n",
    "# / this is division\n",
    "print(8/2)\n",
    "# % this is modulus operator or we can find the remainder after division\n",
    "print(8%3)\n",
    "# // this is floor division, gives the quotient after division\n",
    "print(8//3)\n",
    "# ** this is power function\n",
    "print(2**3)"
   ]
  },
  {
   "cell_type": "code",
   "execution_count": 12,
   "id": "8d09b6dd-b9ad-4d18-bf6c-fffda765426d",
   "metadata": {},
   "outputs": [
    {
     "name": "stdout",
     "output_type": "stream",
     "text": [
      "2 <class 'int'>\n",
      "3 <class 'int'>\n",
      "4.5 <class 'float'>\n",
      "True <class 'bool'>\n",
      "False <class 'bool'>\n",
      "True <class 'str'>\n",
      "False <class 'str'>\n",
      "finished <class 'str'>\n",
      "1 <class 'int'>\n",
      "9 <class 'int'>\n"
     ]
    }
   ],
   "source": [
    "#4. Create a list of length 10 of your choice containing multiple types of data. Using for loop print the element and its data type\n",
    "l=[2,3,4.5,True,False,\"True\",\"False\",\"finished\",1,9]\n",
    "for i in l:\n",
    "    print(i,type(i))"
   ]
  },
  {
   "cell_type": "code",
   "execution_count": 19,
   "id": "07db5714-bbf5-4479-9a0f-21e32a9bfd86",
   "metadata": {},
   "outputs": [
    {
     "name": "stdout",
     "output_type": "stream",
     "text": [
      "2\n"
     ]
    }
   ],
   "source": [
    "#5.Using a while loop, verify if the number A is purely divisible by number B and if so then how many times it can be divisible.\n",
    "A=60\n",
    "B=2\n",
    "count=0\n",
    "while A % B == 0:\n",
    "        A /= B\n",
    "        count += 1\n",
    "print(count)\n"
   ]
  },
  {
   "cell_type": "code",
   "execution_count": 13,
   "id": "ac1c3a0b-555f-49c7-8a8a-0aa688a4d5d9",
   "metadata": {},
   "outputs": [
    {
     "name": "stdout",
     "output_type": "stream",
     "text": [
      "the element is not divisible by 3\n",
      "the element is not divisible by 3\n",
      "the element is divisibble by 3\n",
      "the element is not divisible by 3\n",
      "the element is not divisible by 3\n",
      "the element is divisibble by 3\n",
      "the element is not divisible by 3\n",
      "the element is not divisible by 3\n",
      "the element is divisibble by 3\n",
      "the element is not divisible by 3\n",
      "the element is not divisible by 3\n",
      "the element is divisibble by 3\n",
      "the element is not divisible by 3\n",
      "the element is not divisible by 3\n",
      "the element is divisibble by 3\n",
      "the element is not divisible by 3\n",
      "the element is not divisible by 3\n",
      "the element is divisibble by 3\n",
      "the element is not divisible by 3\n",
      "the element is not divisible by 3\n",
      "the element is divisibble by 3\n",
      "the element is not divisible by 3\n",
      "the element is not divisible by 3\n",
      "the element is divisibble by 3\n",
      "the element is not divisible by 3\n"
     ]
    }
   ],
   "source": [
    "#6.Create a list containing 25 int type data. Using for loop and if-else condition print if the element is divisible by 3 or not.\n",
    "l=[1,2,3,4,5,6,7,8,9,10,11,12,13,14,15,16,17,18,19,20,21,22,23,24,25]\n",
    "for i in l:\n",
    "    if i%3==0:\n",
    "        print(\"the element is divisibble by 3\")\n",
    "    else:\n",
    "        print(\"the element is not divisible by 3\")\n",
    "\n"
   ]
  },
  {
   "cell_type": "code",
   "execution_count": 14,
   "id": "ca66ceff-0b8e-4cf5-8dcd-24808f50d391",
   "metadata": {},
   "outputs": [
    {
     "name": "stdout",
     "output_type": "stream",
     "text": [
      "[1, 2, 3, 4]\n",
      "[3, 2, 3, 4]\n"
     ]
    }
   ],
   "source": [
    "#7.What do you understand about mutable and immutable data types? Give examples for both showing this property.\n",
    "# Mutable data types means once the creation this variable the contents can be altered or modified or updated or removed\n",
    "l=[1,2,3,4]\n",
    "print(l)\n",
    "l[0]=3\n",
    "print(l)\n",
    "# here you cna see that the element in the first postion is altered to 3\n",
    "# Immutable data types, after creation of the data type there can't be any changes example strig, tuple."
   ]
  },
  {
   "cell_type": "code",
   "execution_count": null,
   "id": "8906e2fb-75d4-4cd1-aadb-210a81280eaf",
   "metadata": {},
   "outputs": [],
   "source": []
  }
 ],
 "metadata": {
  "kernelspec": {
   "display_name": "Python 3 (ipykernel)",
   "language": "python",
   "name": "python3"
  },
  "language_info": {
   "codemirror_mode": {
    "name": "ipython",
    "version": 3
   },
   "file_extension": ".py",
   "mimetype": "text/x-python",
   "name": "python",
   "nbconvert_exporter": "python",
   "pygments_lexer": "ipython3",
   "version": "3.10.8"
  }
 },
 "nbformat": 4,
 "nbformat_minor": 5
}
